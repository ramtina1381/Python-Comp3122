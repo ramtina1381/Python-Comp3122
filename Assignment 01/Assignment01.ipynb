{
  "nbformat": 4,
  "nbformat_minor": 0,
  "metadata": {
    "colab": {
      "provenance": []
    },
    "kernelspec": {
      "name": "python3",
      "display_name": "Python 3"
    },
    "language_info": {
      "name": "python"
    }
  },
  "cells": [
    {
      "cell_type": "code",
      "execution_count": null,
      "metadata": {
        "id": "bQUL855Fgjcp"
      },
      "outputs": [],
      "source": [
        "## Ramtin Abolfazli\n",
        "## Student id: 101419226"
      ]
    },
    {
      "cell_type": "code",
      "source": [
        "import numpy as np\n",
        "import pandas as pd\n",
        "import matplotlib.pyplot as plt\n",
        "%matplotlib inline\n",
        "import seaborn as sns"
      ],
      "metadata": {
        "id": "ry0TD0srgxIf"
      },
      "execution_count": 4,
      "outputs": []
    },
    {
      "cell_type": "code",
      "source": [
        "df = pd.read_csv('biostats1.csv')\n",
        "Age = df['Age']\n",
        "print(Age)"
      ],
      "metadata": {
        "colab": {
          "base_uri": "https://localhost:8080/"
        },
        "id": "tLARnB9djNV2",
        "outputId": "9bf8aa0e-dd4f-439b-9f4e-37e526b27108"
      },
      "execution_count": 5,
      "outputs": [
        {
          "output_type": "stream",
          "name": "stdout",
          "text": [
            "0     41\n",
            "1     42\n",
            "2     32\n",
            "3     39\n",
            "4     30\n",
            "5     33\n",
            "6     26\n",
            "7     30\n",
            "8     53\n",
            "9     32\n",
            "10    47\n",
            "11    34\n",
            "12    23\n",
            "13    36\n",
            "14    38\n",
            "15    31\n",
            "16    29\n",
            "17    28\n",
            "Name: Age, dtype: int64\n"
          ]
        }
      ]
    },
    {
      "cell_type": "code",
      "source": [
        "average = np.mean(Age)\n",
        "stddeviation = np.std(Age)\n",
        "min_age = np.min(Age)\n",
        "max_age = np.max(Age)\n",
        "print(average)\n",
        "print(stddeviation)\n",
        "print(min_age)\n",
        "print(max_age)"
      ],
      "metadata": {
        "colab": {
          "base_uri": "https://localhost:8080/"
        },
        "id": "jMcmJnH6kJS2",
        "outputId": "dee24587-832e-4e13-db80-154f302446c1"
      },
      "execution_count": 6,
      "outputs": [
        {
          "output_type": "stream",
          "name": "stdout",
          "text": [
            "34.666666666666664\n",
            "7.363574011458175\n",
            "23\n",
            "53\n"
          ]
        }
      ]
    },
    {
      "cell_type": "code",
      "source": [
        "prc30 = np.percentile(Age, 30)\n",
        "medianAge = np.percentile(Age, 50)\n",
        "prc70 = np.percentile(Age, 70)\n",
        "print(prc30)\n",
        "print(medianAge)\n",
        "print(prc70)"
      ],
      "metadata": {
        "colab": {
          "base_uri": "https://localhost:8080/"
        },
        "id": "gJvtgr4bkYqn",
        "outputId": "3877dee1-52be-4e1c-8448-7930dde61e63"
      },
      "execution_count": 8,
      "outputs": [
        {
          "output_type": "stream",
          "name": "stdout",
          "text": [
            "30.1\n",
            "32.5\n",
            "37.8\n"
          ]
        }
      ]
    },
    {
      "cell_type": "code",
      "source": [
        "plt.hist(Age, bins=20)\n",
        "plt.xlabel('Age')\n",
        "plt.ylabel('Number')\n",
        "plt.title('Age distribution - By Ramtin')\n",
        "plt.show()\n",
        "#"
      ],
      "metadata": {
        "colab": {
          "base_uri": "https://localhost:8080/",
          "height": 472
        },
        "id": "pO-UiEl7lvoD",
        "outputId": "68362830-6c39-4990-f90b-f759951c78bf"
      },
      "execution_count": 9,
      "outputs": [
        {
          "output_type": "display_data",
          "data": {
            "text/plain": [
              "<Figure size 640x480 with 1 Axes>"
            ],
            "image/png": "[encoded data removed]"
          },
          "metadata": {}
        }
      ]
    }
  ]
}