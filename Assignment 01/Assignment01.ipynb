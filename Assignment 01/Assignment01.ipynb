{
 "cells": [
  {
   "cell_type": "code",
   "execution_count": null,
   "metadata": {
    "id": "bQUL855Fgjcp"
   },
   "outputs": [],
   "source": [
    "## Ramtin Abolfazli\n",
    "## Student id: 101419226"
   ]
  },
  {
   "cell_type": "code",
   "execution_count": 3,
   "metadata": {
    "id": "ry0TD0srgxIf"
   },
   "outputs": [],
   "source": [
    "import numpy as np\n",
    "import matplotlib.pyplot as plt\n",
    "%matplotlib inline"
   ]
  },
  {
   "cell_type": "code",
   "execution_count": 5,
   "metadata": {
    "colab": {
     "base_uri": "https://localhost:8080/"
    },
    "id": "tLARnB9djNV2",
    "outputId": "9bf8aa0e-dd4f-439b-9f4e-37e526b27108"
   },
   "outputs": [
    {
     "data": {
      "text/plain": [
       "array([41, 42, 32, 39, 30, 33, 26, 30, 53, 32, 47, 34, 23, 36, 38, 31, 29,\n",
       "       28], dtype=int8)"
      ]
     },
     "execution_count": 5,
     "metadata": {},
     "output_type": "execute_result"
    }
   ],
   "source": [
    "biostats = np.loadtxt('biostats1.csv', dtype=str , delimiter=',', skiprows=1)\n",
    "age = biostats[: , 2].astype(np.int8)\n",
    "age"
   ]
  },
  {
   "cell_type": "code",
   "execution_count": 7,
   "metadata": {
    "colab": {
     "base_uri": "https://localhost:8080/"
    },
    "id": "jMcmJnH6kJS2",
    "outputId": "dee24587-832e-4e13-db80-154f302446c1"
   },
   "outputs": [
    {
     "name": "stdout",
     "output_type": "stream",
     "text": [
      "34.666666666666664\n",
      "7.363574011458175\n",
      "23\n",
      "53\n"
     ]
    }
   ],
   "source": [
    "average = np.mean(age)\n",
    "stddeviation = np.std(age)\n",
    "min_age = np.min(age)\n",
    "max_age = np.max(age)\n",
    "print(average)\n",
    "print(stddeviation)\n",
    "print(min_age)\n",
    "print(max_age)"
   ]
  },
  {
   "cell_type": "code",
   "execution_count": 8,
   "metadata": {
    "colab": {
     "base_uri": "https://localhost:8080/"
    },
    "id": "gJvtgr4bkYqn",
    "outputId": "3877dee1-52be-4e1c-8448-7930dde61e63"
   },
   "outputs": [
    {
     "name": "stdout",
     "output_type": "stream",
     "text": [
      "30.1\n",
      "32.5\n",
      "37.8\n"
     ]
    }
   ],
   "source": [
    "prc30 = np.percentile(age, 30)\n",
    "medianAge = np.percentile(age, 50)\n",
    "prc70 = np.percentile(age, 70)\n",
    "print(prc30)\n",
    "print(medianAge)\n",
    "print(prc70)"
   ]
  },
  {
   "cell_type": "code",
   "execution_count": 9,
   "metadata": {
    "colab": {
     "base_uri": "https://localhost:8080/",
     "height": 472
    },
    "id": "pO-UiEl7lvoD",
    "outputId": "68362830-6c39-4990-f90b-f759951c78bf"
   },
   "outputs": [
    {
     "data": {
      "image/png": "[encoded data removed]",
      "text/plain": [
       "<Figure size 640x480 with 1 Axes>"
      ]
     },
     "metadata": {},
     "output_type": "display_data"
    }
   ],
   "source": [
    "plt.hist(age, bins=20)\n",
    "plt.xlabel('Age')\n",
    "plt.ylabel('Number')\n",
    "plt.title('Age distribution - By Ramtin')\n",
    "plt.show()\n",
    "#"
   ]
  },
  {
   "cell_type": "code",
   "execution_count": null,
   "metadata": {},
   "outputs": [],
   "source": []
  }
 ],
 "metadata": {
  "colab": {
   "provenance": []
  },
  "kernelspec": {
   "display_name": "Python 3 (ipykernel)",
   "language": "python",
   "name": "python3"
  },
  "language_info": {
   "codemirror_mode": {
    "name": "ipython",
    "version": 3
   },
   "file_extension": ".py",
   "mimetype": "text/x-python",
   "name": "python",
   "nbconvert_exporter": "python",
   "pygments_lexer": "ipython3",
   "version": "3.12.2"
  }
 },
 "nbformat": 4,
 "nbformat_minor": 4
}
